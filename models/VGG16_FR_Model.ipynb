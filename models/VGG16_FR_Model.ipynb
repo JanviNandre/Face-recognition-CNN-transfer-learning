{
 "cells": [
  {
   "cell_type": "code",
   "execution_count": 2,
   "id": "1de66a47",
   "metadata": {},
   "outputs": [],
   "source": [
    "from keras.layers import Input, Lambda, Dense, Flatten\n",
    "from keras.models import Model\n",
    "from keras.applications.vgg16 import VGG16\n",
    "from keras.applications.vgg16 import preprocess_input\n",
    "from keras.preprocessing import image\n",
    "from keras.preprocessing.image import ImageDataGenerator\n",
    "from keras.models import Sequential\n",
    "import numpy as np\n",
    "from glob import glob\n",
    "import matplotlib.pyplot as plt\n",
    "\n",
    "\n",
    "# re-size all the images to this\n",
    "IMAGE_SIZE = [224, 224]"
   ]
  },
  {
   "cell_type": "code",
   "execution_count": 3,
   "id": "ec8f12f7",
   "metadata": {},
   "outputs": [],
   "source": [
    "train_path = 'C:/Users/DELL/Desktop/JANVI/Projects/Face recognition/dataset/train/'\n",
    "valid_path = 'C:/Users/DELL/Desktop/JANVI/Projects/Face recognition/dataset/val/'"
   ]
  },
  {
   "cell_type": "code",
   "execution_count": 4,
   "id": "4926aa82",
   "metadata": {},
   "outputs": [],
   "source": [
    "# add preprocessing layer to the front of VGG\n",
    "vgg = VGG16(input_shape=IMAGE_SIZE + [3], weights='imagenet', include_top=False)\n",
    "\n",
    "# don't train existing weights\n",
    "for layer in vgg.layers:\n",
    "  layer.trainable = False"
   ]
  },
  {
   "cell_type": "code",
   "execution_count": 5,
   "id": "8cea87f5",
   "metadata": {},
   "outputs": [],
   "source": [
    "# useful for getting number of classes\n",
    "folders = glob('C:/Users/DELL/Desktop/JANVI/Projects/Face recognition/dataset/train/*')\n",
    "  "
   ]
  },
  {
   "cell_type": "code",
   "execution_count": 6,
   "id": "43a42032",
   "metadata": {},
   "outputs": [],
   "source": [
    "# our layers - you can add more if you want\n",
    "x = Flatten()(vgg.output)\n",
    "# x = Dense(1000, activation='relu')(x)\n",
    "prediction = Dense(len(folders), activation='softmax')(x)"
   ]
  },
  {
   "cell_type": "code",
   "execution_count": 7,
   "id": "35eb7f60",
   "metadata": {},
   "outputs": [
    {
     "name": "stdout",
     "output_type": "stream",
     "text": [
      "Model: \"model\"\n",
      "_________________________________________________________________\n",
      " Layer (type)                Output Shape              Param #   \n",
      "=================================================================\n",
      " input_1 (InputLayer)        [(None, 224, 224, 3)]     0         \n",
      "                                                                 \n",
      " block1_conv1 (Conv2D)       (None, 224, 224, 64)      1792      \n",
      "                                                                 \n",
      " block1_conv2 (Conv2D)       (None, 224, 224, 64)      36928     \n",
      "                                                                 \n",
      " block1_pool (MaxPooling2D)  (None, 112, 112, 64)      0         \n",
      "                                                                 \n",
      " block2_conv1 (Conv2D)       (None, 112, 112, 128)     73856     \n",
      "                                                                 \n",
      " block2_conv2 (Conv2D)       (None, 112, 112, 128)     147584    \n",
      "                                                                 \n",
      " block2_pool (MaxPooling2D)  (None, 56, 56, 128)       0         \n",
      "                                                                 \n",
      " block3_conv1 (Conv2D)       (None, 56, 56, 256)       295168    \n",
      "                                                                 \n",
      " block3_conv2 (Conv2D)       (None, 56, 56, 256)       590080    \n",
      "                                                                 \n",
      " block3_conv3 (Conv2D)       (None, 56, 56, 256)       590080    \n",
      "                                                                 \n",
      " block3_pool (MaxPooling2D)  (None, 28, 28, 256)       0         \n",
      "                                                                 \n",
      " block4_conv1 (Conv2D)       (None, 28, 28, 512)       1180160   \n",
      "                                                                 \n",
      " block4_conv2 (Conv2D)       (None, 28, 28, 512)       2359808   \n",
      "                                                                 \n",
      " block4_conv3 (Conv2D)       (None, 28, 28, 512)       2359808   \n",
      "                                                                 \n",
      " block4_pool (MaxPooling2D)  (None, 14, 14, 512)       0         \n",
      "                                                                 \n",
      " block5_conv1 (Conv2D)       (None, 14, 14, 512)       2359808   \n",
      "                                                                 \n",
      " block5_conv2 (Conv2D)       (None, 14, 14, 512)       2359808   \n",
      "                                                                 \n",
      " block5_conv3 (Conv2D)       (None, 14, 14, 512)       2359808   \n",
      "                                                                 \n",
      " block5_pool (MaxPooling2D)  (None, 7, 7, 512)         0         \n",
      "                                                                 \n",
      " flatten (Flatten)           (None, 25088)             0         \n",
      "                                                                 \n",
      " dense (Dense)               (None, 5)                 125445    \n",
      "                                                                 \n",
      "=================================================================\n",
      "Total params: 14,840,133\n",
      "Trainable params: 125,445\n",
      "Non-trainable params: 14,714,688\n",
      "_________________________________________________________________\n"
     ]
    }
   ],
   "source": [
    "# create a model object\n",
    "model = Model(inputs=vgg.input, outputs=prediction)\n",
    "\n",
    "# view the structure of the model\n",
    "model.summary()"
   ]
  },
  {
   "cell_type": "code",
   "execution_count": 8,
   "id": "089a5fcc",
   "metadata": {},
   "outputs": [],
   "source": [
    "# tell the model what cost and optimization method to use\n",
    "model.compile(\n",
    "  loss='categorical_crossentropy',\n",
    "  optimizer='adam',\n",
    "  metrics=['accuracy']\n",
    ")\n"
   ]
  },
  {
   "cell_type": "code",
   "execution_count": 9,
   "id": "45e281cc",
   "metadata": {},
   "outputs": [
    {
     "name": "stdout",
     "output_type": "stream",
     "text": [
      "Found 93 images belonging to 5 classes.\n",
      "Found 25 images belonging to 5 classes.\n"
     ]
    }
   ],
   "source": [
    "from keras.preprocessing.image import ImageDataGenerator\n",
    "\n",
    "train_datagen = ImageDataGenerator(rescale = 1./255,\n",
    "                                   shear_range = 0.2,\n",
    "                                   zoom_range = 0.2,\n",
    "                                   horizontal_flip = True)\n",
    "\n",
    "test_datagen = ImageDataGenerator(rescale = 1./255)\n",
    "\n",
    "training_set = train_datagen.flow_from_directory('C:/Users/DELL/Desktop/JANVI/Projects/Face recognition/dataset/train',\n",
    "                                                 target_size = (224, 224),\n",
    "                                                 batch_size = 32,\n",
    "                                                 class_mode = 'categorical')\n",
    "\n",
    "test_set = test_datagen.flow_from_directory('C:/Users/DELL/Desktop/JANVI/Projects/Face recognition/dataset/val',\n",
    "                                            target_size = (224, 224),\n",
    "                                            batch_size = 32,\n",
    "                                            class_mode = 'categorical')"
   ]
  },
  {
   "cell_type": "code",
   "execution_count": 10,
   "id": "7e4f39c3",
   "metadata": {},
   "outputs": [
    {
     "name": "stdout",
     "output_type": "stream",
     "text": [
      "Epoch 1/25\n",
      "3/3 [==============================] - 58s 20s/step - loss: 2.5371 - accuracy: 0.1828 - val_loss: 2.0134 - val_accuracy: 0.2800\n",
      "Epoch 2/25\n",
      "3/3 [==============================] - 56s 20s/step - loss: 1.5842 - accuracy: 0.4086 - val_loss: 1.3330 - val_accuracy: 0.4000\n",
      "Epoch 3/25\n",
      "3/3 [==============================] - 70s 26s/step - loss: 0.9530 - accuracy: 0.6344 - val_loss: 1.2178 - val_accuracy: 0.4800\n",
      "Epoch 4/25\n",
      "3/3 [==============================] - 66s 23s/step - loss: 0.6140 - accuracy: 0.7957 - val_loss: 0.9033 - val_accuracy: 0.6400\n",
      "Epoch 5/25\n",
      "3/3 [==============================] - 63s 23s/step - loss: 0.3471 - accuracy: 0.8817 - val_loss: 0.7505 - val_accuracy: 0.7600\n",
      "Epoch 6/25\n",
      "3/3 [==============================] - 61s 23s/step - loss: 0.2947 - accuracy: 0.9247 - val_loss: 0.5588 - val_accuracy: 0.8400\n",
      "Epoch 7/25\n",
      "3/3 [==============================] - 59s 21s/step - loss: 0.2007 - accuracy: 0.9677 - val_loss: 0.6256 - val_accuracy: 0.8000\n",
      "Epoch 8/25\n",
      "3/3 [==============================] - 55s 20s/step - loss: 0.1553 - accuracy: 0.9785 - val_loss: 0.7114 - val_accuracy: 0.7600\n",
      "Epoch 9/25\n",
      "3/3 [==============================] - 52s 19s/step - loss: 0.1120 - accuracy: 1.0000 - val_loss: 0.5801 - val_accuracy: 0.8400\n",
      "Epoch 10/25\n",
      "3/3 [==============================] - 53s 20s/step - loss: 0.0531 - accuracy: 1.0000 - val_loss: 0.4865 - val_accuracy: 0.8800\n",
      "Epoch 11/25\n",
      "3/3 [==============================] - 53s 19s/step - loss: 0.0464 - accuracy: 1.0000 - val_loss: 0.4523 - val_accuracy: 0.9200\n",
      "Epoch 12/25\n",
      "3/3 [==============================] - 52s 19s/step - loss: 0.0566 - accuracy: 1.0000 - val_loss: 0.4301 - val_accuracy: 0.9200\n",
      "Epoch 13/25\n",
      "3/3 [==============================] - 53s 19s/step - loss: 0.0341 - accuracy: 1.0000 - val_loss: 0.4190 - val_accuracy: 0.8800\n",
      "Epoch 14/25\n",
      "3/3 [==============================] - 53s 19s/step - loss: 0.0268 - accuracy: 1.0000 - val_loss: 0.4151 - val_accuracy: 0.8800\n",
      "Epoch 15/25\n",
      "3/3 [==============================] - 54s 19s/step - loss: 0.0263 - accuracy: 1.0000 - val_loss: 0.4295 - val_accuracy: 0.8800\n",
      "Epoch 16/25\n",
      "3/3 [==============================] - 52s 18s/step - loss: 0.0244 - accuracy: 1.0000 - val_loss: 0.4406 - val_accuracy: 0.8800\n",
      "Epoch 17/25\n",
      "3/3 [==============================] - 58s 21s/step - loss: 0.0195 - accuracy: 1.0000 - val_loss: 0.4478 - val_accuracy: 0.8400\n",
      "Epoch 18/25\n",
      "3/3 [==============================] - 61s 22s/step - loss: 0.0180 - accuracy: 1.0000 - val_loss: 0.4416 - val_accuracy: 0.8400\n",
      "Epoch 19/25\n",
      "3/3 [==============================] - 62s 22s/step - loss: 0.0172 - accuracy: 1.0000 - val_loss: 0.4334 - val_accuracy: 0.8800\n",
      "Epoch 20/25\n",
      "3/3 [==============================] - 58s 21s/step - loss: 0.0172 - accuracy: 1.0000 - val_loss: 0.4202 - val_accuracy: 0.8800\n",
      "Epoch 21/25\n",
      "3/3 [==============================] - 57s 20s/step - loss: 0.0199 - accuracy: 1.0000 - val_loss: 0.4064 - val_accuracy: 0.8800\n",
      "Epoch 22/25\n",
      "3/3 [==============================] - 59s 20s/step - loss: 0.0143 - accuracy: 1.0000 - val_loss: 0.3935 - val_accuracy: 0.8800\n",
      "Epoch 23/25\n",
      "3/3 [==============================] - 70s 27s/step - loss: 0.0121 - accuracy: 1.0000 - val_loss: 0.3766 - val_accuracy: 0.8800\n",
      "Epoch 24/25\n",
      "3/3 [==============================] - 66s 23s/step - loss: 0.0133 - accuracy: 1.0000 - val_loss: 0.3644 - val_accuracy: 0.8800\n",
      "Epoch 25/25\n",
      "3/3 [==============================] - 64s 23s/step - loss: 0.0123 - accuracy: 1.0000 - val_loss: 0.3586 - val_accuracy: 0.9200\n"
     ]
    }
   ],
   "source": [
    "# fit the model\n",
    "r = model.fit(\n",
    "  training_set,\n",
    "  validation_data=test_set,\n",
    "  epochs=25,\n",
    "  steps_per_epoch=len(training_set),\n",
    "  validation_steps=len(test_set)\n",
    ")"
   ]
  },
  {
   "cell_type": "code",
   "execution_count": 11,
   "id": "a7b9d414",
   "metadata": {},
   "outputs": [
    {
     "data": {
      "image/png": "[encoded data removed]",
      "text/plain": [
       "<Figure size 432x288 with 1 Axes>"
      ]
     },
     "metadata": {
      "needs_background": "light"
     },
     "output_type": "display_data"
    },
    {
     "data": {
      "image/png": "[encoded data removed]",
      "text/plain": [
       "<Figure size 432x288 with 1 Axes>"
      ]
     },
     "metadata": {
      "needs_background": "light"
     },
     "output_type": "display_data"
    },
    {
     "data": {
      "text/plain": [
       "<Figure size 432x288 with 0 Axes>"
      ]
     },
     "metadata": {},
     "output_type": "display_data"
    }
   ],
   "source": [
    "# loss\n",
    "plt.plot(r.history['loss'], label='train loss')\n",
    "plt.plot(r.history['val_loss'], label='val loss')\n",
    "plt.legend()\n",
    "plt.show()\n",
    "plt.savefig('LossVal_loss')\n",
    "\n",
    "# accuracies\n",
    "plt.plot(r.history['accuracy'], label='train acc')\n",
    "plt.plot(r.history['val_accuracy'], label='val acc')\n",
    "plt.legend()\n",
    "plt.show()\n",
    "plt.savefig('AccVal_acc')"
   ]
  },
  {
   "cell_type": "code",
   "execution_count": 2,
   "id": "6eb8942f",
   "metadata": {},
   "outputs": [
    {
     "ename": "NameError",
     "evalue": "name 'model' is not defined",
     "output_type": "error",
     "traceback": [
      "\u001b[1;31m---------------------------------------------------------------------------\u001b[0m",
      "\u001b[1;31mNameError\u001b[0m                                 Traceback (most recent call last)",
      "\u001b[1;32m~\\AppData\\Local\\Temp/ipykernel_8132/3548858083.py\u001b[0m in \u001b[0;36m<module>\u001b[1;34m\u001b[0m\n\u001b[0;32m      3\u001b[0m \u001b[1;32mfrom\u001b[0m \u001b[0mkeras\u001b[0m\u001b[1;33m.\u001b[0m\u001b[0mmodels\u001b[0m \u001b[1;32mimport\u001b[0m \u001b[0mload_model\u001b[0m\u001b[1;33m\u001b[0m\u001b[1;33m\u001b[0m\u001b[0m\n\u001b[0;32m      4\u001b[0m \u001b[1;33m\u001b[0m\u001b[0m\n\u001b[1;32m----> 5\u001b[1;33m \u001b[0mmodel\u001b[0m\u001b[1;33m.\u001b[0m\u001b[0msave\u001b[0m\u001b[1;33m(\u001b[0m\u001b[1;34m'C:/Users/DELL/Desktop/JANVI/Projects/Face recognition/H5 files/VGG16.h5'\u001b[0m\u001b[1;33m)\u001b[0m\u001b[1;33m\u001b[0m\u001b[1;33m\u001b[0m\u001b[0m\n\u001b[0m",
      "\u001b[1;31mNameError\u001b[0m: name 'model' is not defined"
     ]
    }
   ],
   "source": [
    "import tensorflow as tf\n",
    "\n",
    "from keras.models import load_model\n",
    "\n",
    "model.save('C:/Users/DELL/Desktop/JANVI/Projects/Face recognition/H5 files/VGG16.h5')\n"
   ]
  },
  {
   "cell_type": "code",
   "execution_count": null,
   "id": "5800f667",
   "metadata": {},
   "outputs": [],
   "source": [
    "classifier = load_model('VGG16.h5')"
   ]
  },
  {
   "cell_type": "code",
   "execution_count": 22,
   "id": "86ae0130",
   "metadata": {},
   "outputs": [
    {
     "name": "stdout",
     "output_type": "stream",
     "text": [
      "Class - ben_afflek\n",
      "Class - madonna\n",
      "Class - elton_john\n",
      "Class - mindy_kaling\n",
      "Class - madonna\n"
     ]
    }
   ],
   "source": [
    "import os\n",
    "import cv2\n",
    "import numpy as np\n",
    "from os import listdir\n",
    "from os.path import isfile, join\n",
    "\n",
    "monkey_breeds_dict = {\"[0]\": \"ben_afflek\", \n",
    "                      \"[1]\": \"elton_john\",\n",
    "                      \"[2]\": \"jerry_seinfeld\",\n",
    "                      \"[3]\": \"madonna\",\n",
    "                      \"[4]\": \"mindy_kaling\",\n",
    "                      \n",
    "                     }\n",
    "\n",
    "monkey_breeds_dict_n = {\"ben_afflek\": \"ben_afflek\", \n",
    "                      \"elton_john\": \"elton_john\",\n",
    "                     \"jerry_seinfeld\" : \"jerry_seinfeld\",\n",
    "                        \"madonna\":\"madonna\",\n",
    "                        \"mindy_kaling\" : \"mindy_kaling\",\n",
    "                      }\n",
    "\n",
    "def draw_test(name, pred, im):\n",
    "    monkey = monkey_breeds_dict[str(pred)]\n",
    "    BLACK = [0,0,0]\n",
    "    expanded_image = cv2.copyMakeBorder(im, 80, 0, 0, 100 ,cv2.BORDER_CONSTANT,value=BLACK)\n",
    "    cv2.putText(expanded_image, monkey, (20, 60) , cv2.FONT_HERSHEY_SIMPLEX,1, (0,0,255), 2)\n",
    "    cv2.imshow(name, expanded_image)\n",
    "\n",
    "def getRandomImage(path):\n",
    "    \"\"\"function loads a random images from a random folder in our test path \"\"\"\n",
    "    folders = list(filter(lambda x: os.path.isdir(os.path.join(path, x)), os.listdir(path)))\n",
    "    random_directory = np.random.randint(0,len(folders))\n",
    "    path_class = folders[random_directory]\n",
    "    print(\"Class - \" + monkey_breeds_dict_n[str(path_class)])\n",
    "    file_path = path + path_class\n",
    "    file_names = [f for f in listdir(file_path) if isfile(join(file_path, f))]\n",
    "    random_file_index = np.random.randint(0,len(file_names))\n",
    "    image_name = file_names[random_file_index]\n",
    "    return cv2.imread(file_path+\"/\"+image_name)    \n",
    "\n",
    "for i in range(0,5):\n",
    "    input_im = getRandomImage(\"dataset/val/\")\n",
    "    input_original = input_im.copy()\n",
    "    input_original = cv2.resize(input_original, None, fx=0.5, fy=0.5, interpolation = cv2.INTER_LINEAR)\n",
    "    \n",
    "    input_im = cv2.resize(input_im, (224, 224), interpolation = cv2.INTER_LINEAR)\n",
    "    input_im = input_im / 255.\n",
    "    input_im = input_im.reshape(1,224,224,3) \n",
    "    \n",
    "    # Get Prediction\n",
    "    res = np.argmax(classifier.predict(input_im, 1, verbose = 0), axis=1)\n",
    "    \n",
    "    # Show image with predicted class\n",
    "    draw_test(\"Prediction\", res, input_original) \n",
    "    cv2.waitKey(0)\n",
    "\n",
    "cv2.destroyAllWindows()"
   ]
  }
 ],
 "metadata": {
  "kernelspec": {
   "display_name": "Python 3 (ipykernel)",
   "language": "python",
   "name": "python3"
  },
  "language_info": {
   "codemirror_mode": {
    "name": "ipython",
    "version": 3
   },
   "file_extension": ".py",
   "mimetype": "text/x-python",
   "name": "python",
   "nbconvert_exporter": "python",
   "pygments_lexer": "ipython3",
   "version": "3.9.7"
  }
 },
 "nbformat": 4,
 "nbformat_minor": 5
}
